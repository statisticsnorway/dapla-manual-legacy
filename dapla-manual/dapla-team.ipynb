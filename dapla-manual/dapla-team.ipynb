{
  "cells": [
    {
      "cell_type": "markdown",
      "id": "c5b16245",
      "metadata": {},
      "source": [
        "# Opprette Dapla-team {#sec-project-dice}\n",
        "\n",
        "I forrige del beskrev vi noen grunnleggende ting rundt **Dapla**. I denne delen tar vi for oss hvordan du kan begynne å jobbe med skarpe data på plattformen. \n",
        "\n",
        "Kapittelet som beskriver hvordan man [logger seg inn på Dapla](./innlogging.html) vil fungere uten at du må gjøre noen forberedelser. Er man koblet på SSB sitt nettverk så vil alle SSB-ansatte kunne gå inn på plattformen og kode i Python og R. Men du får ikke tilgang til SSBs område for datalagring på plattformen. I praksis vil det si at man generere data med kode, men man ikke jobbe med skarpe data. \n",
        "\n",
        "For å få muligheten til å jobbe skarpe data MÅ du først opprette et **dapla-team**. Dette er det første naturlige steget å ta når man skal begynne å jobbe med statistikkproduksjon på Dapla. I dette kapittelet vil vi forklare det du trenger å vite om det å opprette og jobbe innenfor et team. \n"
      ]
    },
    {
      "cell_type": "code",
      "execution_count": 1,
      "id": "65ff12ac",
      "metadata": {},
      "outputs": [
        {
          "ename": "AttributeError",
          "evalue": "module 'graphviz' has no attribute 'Node'",
          "output_type": "error",
          "traceback": [
            "\u001b[0;31m---------------------------------------------------------------------------\u001b[0m",
            "\u001b[0;31mAttributeError\u001b[0m                            Traceback (most recent call last)",
            "\u001b[1;32m/home/obr/repositories/dapla-manual/dapla-manual/dapla-team.ipynb Cell 2\u001b[0m in \u001b[0;36m<cell line: 7>\u001b[0;34m()\u001b[0m\n\u001b[1;32m      <a href='vscode-notebook-cell://wsl%2Bubuntu/home/obr/repositories/dapla-manual/dapla-manual/dapla-team.ipynb#W1sdnNjb2RlLXJlbW90ZQ%3D%3D?line=3'>4</a>\u001b[0m graph \u001b[39m=\u001b[39m gv\u001b[39m.\u001b[39mGraph(\u001b[39mformat\u001b[39m\u001b[39m=\u001b[39m\u001b[39m'\u001b[39m\u001b[39mpng\u001b[39m\u001b[39m'\u001b[39m)\n\u001b[1;32m      <a href='vscode-notebook-cell://wsl%2Bubuntu/home/obr/repositories/dapla-manual/dapla-manual/dapla-team.ipynb#W1sdnNjb2RlLXJlbW90ZQ%3D%3D?line=5'>6</a>\u001b[0m \u001b[39m# Add nodes to the graph\u001b[39;00m\n\u001b[0;32m----> <a href='vscode-notebook-cell://wsl%2Bubuntu/home/obr/repositories/dapla-manual/dapla-manual/dapla-team.ipynb#W1sdnNjb2RlLXJlbW90ZQ%3D%3D?line=6'>7</a>\u001b[0m jupyter_node \u001b[39m=\u001b[39m gv\u001b[39m.\u001b[39;49mNode(\u001b[39m'\u001b[39m\u001b[39mJupyter\u001b[39m\u001b[39m'\u001b[39m)\n\u001b[1;32m      <a href='vscode-notebook-cell://wsl%2Bubuntu/home/obr/repositories/dapla-manual/dapla-manual/dapla-team.ipynb#W1sdnNjb2RlLXJlbW90ZQ%3D%3D?line=7'>8</a>\u001b[0m lagringsområdet_node \u001b[39m=\u001b[39m gv\u001b[39m.\u001b[39mNode(\u001b[39m'\u001b[39m\u001b[39mLagringsområdet\u001b[39m\u001b[39m'\u001b[39m)\n\u001b[1;32m     <a href='vscode-notebook-cell://wsl%2Bubuntu/home/obr/repositories/dapla-manual/dapla-manual/dapla-team.ipynb#W1sdnNjb2RlLXJlbW90ZQ%3D%3D?line=9'>10</a>\u001b[0m \u001b[39m# Add the nodes to the graph\u001b[39;00m\n",
            "\u001b[0;31mAttributeError\u001b[0m: module 'graphviz' has no attribute 'Node'"
          ]
        }
      ],
      "source": [
        "import graphviz as gv\n",
        "\n",
        "# Create a Graph object\n",
        "graph = gv.Graph(format='png')\n",
        "\n",
        "# Add nodes to the graph\n",
        "jupyter_node = gv.Node('Jupyter')\n",
        "lagringsområdet_node = gv.Node('Lagringsområdet')\n",
        "\n",
        "# Add the nodes to the graph\n",
        "graph.add_node(jupyter_node)\n",
        "graph.add_node(lagringsområdet_node)\n",
        "\n",
        "# Add an edge between the nodes\n",
        "graph.add_edge(jupyter_node, lagringsområdet_node)\n",
        "\n",
        "# Render the graph to a file\n",
        "graph.render('diagram')"
      ]
    }
  ],
  "metadata": {
    "kernelspec": {
      "display_name": "Python 3",
      "language": "python",
      "name": "python3"
    },
    "language_info": {
      "codemirror_mode": {
        "name": "ipython",
        "version": 3
      },
      "file_extension": ".py",
      "mimetype": "text/x-python",
      "name": "python",
      "nbconvert_exporter": "python",
      "pygments_lexer": "ipython3",
      "version": "3.10.5"
    },
    "vscode": {
      "interpreter": {
        "hash": "12971766defbc10874cb098c3cf0421d02b05d66d8fb37ce7717de9f14121103"
      }
    }
  },
  "nbformat": 4,
  "nbformat_minor": 5
}
