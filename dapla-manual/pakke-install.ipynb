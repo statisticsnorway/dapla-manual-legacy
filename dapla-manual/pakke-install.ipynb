{
  "cells": [
    {
      "cell_type": "markdown",
      "metadata": {},
      "source": [
        "# Installere pakker\n",
        "Installering av PyPi pakker er kun mulig I et virtuelt miljø(href virtual-env).\n",
        "\n",
        "Det første man gjøre er å lage en ny mappe for prosjektet.\n",
        "Åpne mappen i terminal.\n",
        "\n",
        "poetry init.\n",
        "Du blir så bedt om å fylle inn informasjon:"
      ],
      "id": "bec1b65f"
    },
    {
      "cell_type": "code",
      "metadata": {},
      "source": [
        "Package name [123]:  test\n",
        "Version [0.1.0]:  0.0.1\n",
        "Description []:  Test prosjekt\n",
        "Author [Ola Nordmann  <ola.nordmann@ssb.no>, n to skip]:  Ola Nordmann  <ola.nordmann@ssb.no>\n",
        "License []:  MIT\n",
        "Compatible Python versions [^3.9]:  ^3.9\n",
        "\n",
        "Would you like to define your main dependencies interactively? (yes/no) [yes] no\n",
        "Would you like to define your development dependencies interactively? (yes/no) [yes] no"
      ],
      "id": "2ea7009e",
      "execution_count": null,
      "outputs": []
    },
    {
      "cell_type": "markdown",
      "metadata": {},
      "source": [
        "## Python\n",
        "\n",
        "Mer kommer. \n",
        "\n",
        "### Installering\n",
        "https://python-poetry.org/docs/cli/#add\n",
        "\n",
        "### Avinstallering\n",
        "https://python-poetry.org/docs/cli/#remove\n",
        "\n",
        "### Oppgradere pakker\n",
        "For å oppdatere pakker i et prosjekt må man navigere til prosjektet i terminalen og benytter komandoen poetry update.\n",
        "\n",
        "Hvis man ønsker å oppdatere en enkelt pakke benytter man poetry update <pakkenavn>.\n",
        "\n",
        "Skal man oppdatere pakken \"requests\" bruker man:\n",
        "poetry update requests\n",
        "\n",
        "Skal man oppdatre alle pakken i et prosjekt benytter man:\n",
        "poetry update\n",
        "For mer dokumentasjon se(https://python-poetry.org/docs/cli/)\n",
        "\n",
        "### Sikkerhet\n",
        "Hvem som helst kan legge til pakker på PyPi, det betyr at de i verstefall, kan inneholde skadelig kode. \n",
        "\n",
        "Her er tips til noen grep man kan ta for å minimere risikoen: \n",
        "\n",
        "    1. Man bør alltid søke opp pakken på https://pypi.org/. Det er anbefalt å klippe og lime inn navnet på pakken når man skal legge den til i et prosjekt. \n",
        "\n",
        "    2. Undersøk prosjektets tilknyttede repository. Tilhører det en kjent organisasjon (feks. ssb)? \n",
        "\n",
        "    3. Er det et populært/velkjent prosjekt? Hvor mange stjerner og forks har repoet? \n",
        "## R\n",
        "\n",
        "### Installering\n",
        "\n",
        "### Avinstallering\n",
        "\n",
        "### Oppgradere pakker"
      ],
      "id": "c164056d"
    }
  ],
  "metadata": {
    "kernelspec": {
      "name": "pymedphys",
      "language": "python",
      "display_name": "pymedphys"
    }
  },
  "nbformat": 4,
  "nbformat_minor": 5
}