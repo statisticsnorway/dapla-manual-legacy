{
 "cells": [
  {
   "cell_type": "raw",
   "id": "18a1405d-15ef-456d-aaa3-144f4cd52234",
   "metadata": {},
   "source": [
    "---\n",
    "freeze: true\n",
    "---"
   ]
  },
  {
   "cell_type": "markdown",
   "id": "5fbceab0-781d-4768-bcd9-5996e1a8607f",
   "metadata": {},
   "source": [
    "# Introduksjon til SparkR\n",
    "\n",
    "Akkurat som PySpark så gir [SparkR](https://spark.apache.org/docs/latest/sparkr) oss et grensesnitt mot Apache Spark fra R. I denne notebooken viser vi noen eksempler hvordan du gjøre vanlige operasjoner med SparkR. \n",
    "\n",
    "## Oppsett\n",
    "\n",
    "Eksemplene i notebooken bruker `SparkR (k8s cluster)` på <https://jupyter.dapla.ssb.no/>. Det vil si at den kan distribuere kjøringene på flere maskiner i Kubernetes. "
   ]
  },
  {
   "cell_type": "code",
   "execution_count": null,
   "id": "8e85a49a-c02d-443c-a516-50eeca8c1ddd",
   "metadata": {
    "tags": []
   },
   "outputs": [],
   "source": [
    "spark"
   ]
  },
  {
   "cell_type": "markdown",
   "id": "cc9abe72-6d7f-4eca-9b21-aabd51c96424",
   "metadata": {},
   "source": [
    "## Lese inn fil"
   ]
  },
  {
   "cell_type": "code",
   "execution_count": null,
   "id": "8c256b40-6f6d-4a3b-941f-6e4be26c1af5",
   "metadata": {
    "tags": []
   },
   "outputs": [],
   "source": [
    "file = read.parquet(\"gs://ssb-prod-dapla-felles-data-delt/temp/timeseries.parquet\")"
   ]
  },
  {
   "cell_type": "code",
   "execution_count": null,
   "id": "7ed99872-26bd-442e-ac73-502e315ac638",
   "metadata": {
    "tags": []
   },
   "outputs": [],
   "source": [
    "#| label: print-cell\n",
    "selectedColumns <- select(file, \"Date\", \"Year\", \"Quarter\", \"Month\", \"serie00\", \"serie01\")\n",
    "showDF(selectedColumns, numRows = 5)"
   ]
  },
  {
   "cell_type": "markdown",
   "id": "1751511c-5723-46cf-8481-2e55a1ce3dbe",
   "metadata": {},
   "source": [
    "# Skrive ut fil\n",
    "\n",
    "Under skriver vi ut en fil og spesifiserer at vi overskriver evt filer med samme navn. "
   ]
  },
  {
   "cell_type": "code",
   "execution_count": null,
   "id": "354a5c54-53c7-4b21-a83b-f549a8a90289",
   "metadata": {
    "tags": []
   },
   "outputs": [],
   "source": [
    "write.parquet(file,\n",
    "              \"gs://ssb-prod-dapla-felles-data-delt/temp/timeseries_copy.parquet\",\n",
    "              mode = \"overwrite\")"
   ]
  }
 ],
 "metadata": {
  "kernelspec": {
   "display_name": "SparkR (k8s cluster)",
   "language": "R",
   "name": "ir_k8s"
  },
  "language_info": {
   "codemirror_mode": "r",
   "file_extension": ".r",
   "mimetype": "text/x-r-source",
   "name": "R",
   "pygments_lexer": "r",
   "version": "4.3.1"
  }
 },
 "nbformat": 4,
 "nbformat_minor": 5
}
