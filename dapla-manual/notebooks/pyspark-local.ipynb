{
 "cells": [
  {
   "cell_type": "markdown",
   "id": "7c4e5c4f-6e00-4bad-8984-b5feb06d9524",
   "metadata": {},
   "source": [
    "# Tidsserier med Spark\n",
    "\n",
    "I denne notebooken vises noen enkle eksempler på hvordan du kan jobbe med tidsserier i PySpark. Denne notebooken er kjørt i prodmiljøet på **Dapla** med `Pyspark (local)`-kernel."
   ]
  },
  {
   "cell_type": "code",
   "execution_count": null,
   "id": "9a3d798c-570d-4112-99ba-b3f4d694ca80",
   "metadata": {
    "tags": []
   },
   "outputs": [],
   "source": [
    "# Importer biblioteker\n",
    "import numpy as np\n",
    "from pyspark.sql import SparkSession\n",
    "from pyspark.sql.functions import date_format, explode, expr, sequence\n",
    "from pyspark.sql.types import DateType, DoubleType, StructField, StructType"
   ]
  },
  {
   "cell_type": "code",
   "execution_count": null,
   "id": "ab4c5e0d-1909-43ed-8911-43b02485e045",
   "metadata": {
    "tags": []
   },
   "outputs": [],
   "source": [
    "# Initialize a SparkSession\n",
    "spark = SparkSession.builder.master(\"local[1]\") \\\n",
    "                    .appName('SparkByExamples.com') \\\n",
    "                    .getOrCreate()"
   ]
  },
  {
   "cell_type": "code",
   "execution_count": null,
   "id": "3d9d1e1d-8173-47b6-a70b-be84c38a7bbc",
   "metadata": {
    "tags": []
   },
   "outputs": [],
   "source": [
    "# Generate a sequence of dates\n",
    "dates_df = spark.range(1).select(\n",
    "    explode(\n",
    "        sequence(\n",
    "            start=expr(\"date '2000-01-01'\"),\n",
    "            stop=expr(\"date '2023-08-01'\"),\n",
    "            step=expr(\"interval 1 month\"),\n",
    "        )\n",
    "    ).alias(\"Date\")\n",
    ")\n",
    "dates_df.show()"
   ]
  },
  {
   "cell_type": "code",
   "execution_count": null,
   "id": "b292de78-6144-47a6-ba9e-0fc2947dd7b9",
   "metadata": {
    "tags": []
   },
   "outputs": [],
   "source": [
    "# Genererer random walk data\n",
    "schema = StructType(\n",
    "    [StructField(f\"serie{i:02d}\", DoubleType(), True) for i in range(100)]\n",
    ")\n",
    "\n",
    "data = [\n",
    "    tuple((10 + np.random.normal(0, 1, 100)).cumsum().tolist())\n",
    "    for _ in range(284)  # 284 months from 2000-01 to 2023-08\n",
    "]\n",
    "\n",
    "data_df = spark.createDataFrame(data, schema=schema)\n",
    "\n",
    "data_df.select(\"serie00\", \"serie01\").show()"
   ]
  },
  {
   "cell_type": "code",
   "execution_count": null,
   "id": "2aee8d1d-0cd5-4065-8b76-433df3a62085",
   "metadata": {
    "tags": []
   },
   "outputs": [],
   "source": [
    "# Legger til row index til DataFrame før join med dates_df\n",
    "data_df = data_df.withColumn(\"row_index\", expr(\"monotonically_increasing_id()\"))\n",
    "\n",
    "# Joiner de to datasettene\n",
    "df = (\n",
    "    dates_df.withColumn(\"row_index\", expr(\"monotonically_increasing_id()\"))\n",
    "    .join(data_df, \"row_index\")\n",
    "    .drop(\"row_index\")\n",
    ")\n",
    "\n",
    "# Legger til år, kvartal og mnd\n",
    "df = df.withColumn(\"Year\", date_format(df.Date, \"yyyy\"))\n",
    "df = df.withColumn(\"Quarter\", expr(\"quarter(Date)\"))\n",
    "df = df.withColumn(\"Month\", date_format(df.Date, \"MM\"))\n",
    "\n",
    "df.select(\"Date\",  \"Year\", \"Quarter\", \"Month\", \"serie00\", \"serie01\").show()"
   ]
  }
 ],
 "metadata": {
  "language_info": {
   "codemirror_mode": {
    "name": "ipython"
   },
   "file_extension": ".py",
   "mimetype": "text/x-python",
   "name": "python",
   "nbconvert_exporter": "python"
  }
 },
 "nbformat": 4,
 "nbformat_minor": 5
}
