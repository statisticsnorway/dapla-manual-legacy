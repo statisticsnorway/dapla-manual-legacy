{
  "cells": [
    {
      "cell_type": "markdown",
      "metadata": {},
      "source": [
        "# Jobbe med data\n",
        "\n",
        "Når vi oppretter et **dapla-team** så får vi tildelt et eget området for lagring av data. For å kunne lese og skrive data fra Jupyter til disse områdene må vi autentisere oss, siden Jupyter og lagringsområdet er to separate sikkerhetsoner. \n",
        "\n",
        "@fig-storage viser dette klarer skillet mellom hvor vi koder og hvor dataene ligger på Dapla^[I de tidligere systemene på bakken så var det ikke nødvendig med autentisering mellom kodemiljø og datalagringen]. I dette kapitlet beskriver vi nærmere hvordan du kan jobbe med dataene dine på Dapla. \n",
        "\n",
        "![Tydelig skille mellom kodemiljø og datalagring på Dapla.](images/data-storage-image.png){ fig-alt=\"Bilde som viser forskjellen mellom kodemiljø og hvor data lagres.\" #fig-storage }\n",
        "\n",
        "## dapla-toolbelt\n",
        "\n",
        "For å gjøre det enklere å jobbe data på tvers av Jupyter og lagringsområdet er det laget en egen Python-pakke som heter [dapla-toolbelt](https://github.com/statisticsnorway/dapla-toolbelt) forenkler lesing og skriving av filer i SSB. Denne er foreløpig kun tilgjengelig for de som jobber med **Python**, men det utvikles også en tilsvarende [pakke for **R**](https://statisticsnorway.github.io/fellesr/articles/vignette__DAPLA_jukseark.html) også.\n",
        "\n",
        "Selv om man kan sette opp koden for å jobbe mot SSB-data mer manuelt, tilbyr **dapla-toolbelt** et mer Pandas-aktig tilnærming til dette. For å importere hele biblioteket til en notebook så skriver man bare\n"
      ],
      "id": "b128a514"
    },
    {
      "cell_type": "code",
      "metadata": {},
      "source": [
        "import dapla as dp"
      ],
      "id": "de791ee8",
      "execution_count": null,
      "outputs": []
    },
    {
      "cell_type": "markdown",
      "metadata": {},
      "source": [
        "**dapla-toolbelt** er installert i standard-kernelen på dapla, så du trenger ikke å installere den selv hvis du åpner en notebook med ipykernel.\n",
        "\n",
        "\n",
        "## Lese inn data\n",
        "\n",
        "Å lese inn filer på med dapla-toolbelt er nesten like rett frem som med Pandas. Under finner du eksempler på hvordan du kan lese inn data til en Jupyter Notebooks på Dapla.\n",
        "\n",
        "::: {.callout-tip}\n",
        "## Felles data på Dapla\n",
        "\n",
        "Det finnes et område som alle SSB-ansatte har lese- og skrivetilgang til. Det er **gs://ssb-prod-dapla-felles-data-delt/** i prod-miljøet på Dapla, og **gs://ssb-staging-dapla-felles-data-delt/** i staging-miljøet. I eksemplene under bruker vi disse mappene side alle har tilgang til de og derfor kan kjøre eksemplene selv.\n",
        ":::\n",
        "\n",
        "\n",
        "::: {.panel-tabset}\n",
        "\n",
        "## Python\n",
        "\n",
        "\n",
        "```{ojs}\n",
        "Plot.rectY(data, \n",
        "  Plot.stackY(\n",
        "    Plot.binX( \n",
        "      {y: \"count\"}, \n",
        "      {x: \"body_mass_g\", fill: \"species\", thresholds: 20})\n",
        "    )\n",
        "  ).plot({\n",
        "    facet: {\n",
        "      data,\n",
        "      x: \"sex\"\n",
        "    },\n",
        "    marks: [Plot.frame()]\n",
        "  })\n",
        "```\n",
        "\n",
        "\n",
        "## R\n",
        "\n",
        "testtest\n",
        "\n",
        ":::"
      ],
      "id": "66bf53e1"
    }
  ],
  "metadata": {
    "kernelspec": {
      "name": "python3",
      "language": "python",
      "display_name": "Python 3 (ipykernel)"
    }
  },
  "nbformat": 4,
  "nbformat_minor": 5
}